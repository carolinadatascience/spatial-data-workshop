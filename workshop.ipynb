{
 "cells": [
  {
   "cell_type": "markdown",
   "id": "79e98491",
   "metadata": {},
   "source": [
    "<h1 align=\"center\">Spatial Data with Python Workshop</h1>\n",
    "\n",
    "<h4 align=\"center\"><i>Created by <a href=\"https://github.com/amitparikh1\">Amit Parikh</a> for Carolina Analytics and Data Science on 3/1/2023</i></h4>\n",
    "\n",
    " \n",
    "**Spatial Data** can be defined as any series of data that has an implicit or explicit association with a geographic location. Spatial data is all around us and is constantly being collected. \n",
    "\n",
    "In this workshop we will go over some common examples of spatial datasets, data types that are specific to spatial data, how to best analyze spatial data in Python using GeoPandas, and explore ways we can visualize spatial data. \n",
    "\n",
    "This workshop is meant to be **introductory** and is open to all skill levels. A basic understanding of Python and Pandas would be helpful, but not necessary. To familiarize yourself with Python and Pandas, check out our <a href=\"https://youtube.com/playlist?list=PLtOYSqZWWG7L1tUaEgUwtJP0d9xYHN7o1\"> CADS intro YouTube series </a>. "
   ]
  },
  {
   "cell_type": "markdown",
   "id": "8b6c18d0",
   "metadata": {},
   "source": [
    "## Examples of Spatial Data"
   ]
  },
  {
   "cell_type": "markdown",
   "id": "64a3b8d4",
   "metadata": {},
   "source": [
    "## Data Types Specific to Spatial Data <a href=\"https://www.safe.com/what-is/spatial-data/\">(Source)</a>"
   ]
  },
  {
   "cell_type": "markdown",
   "id": "bf203ba4",
   "metadata": {},
   "source": [
    "### Vector"
   ]
  },
  {
   "cell_type": "markdown",
   "id": "71e1e8ae",
   "metadata": {},
   "source": [
    "### Raster"
   ]
  },
  {
   "cell_type": "markdown",
   "id": "cdcd0c8e",
   "metadata": {},
   "source": [
    "### Attributes"
   ]
  },
  {
   "cell_type": "markdown",
   "id": "dbcb9672",
   "metadata": {},
   "source": [
    "### Geographic Coordinate System"
   ]
  },
  {
   "cell_type": "markdown",
   "id": "f0ac5e51",
   "metadata": {},
   "source": [
    "### Georeferencing & Geocoding"
   ]
  },
  {
   "cell_type": "markdown",
   "id": "9c099a22",
   "metadata": {},
   "source": [
    "## Using GeoPandas to Analyze Spatial Data"
   ]
  },
  {
   "cell_type": "markdown",
   "id": "7bab4e7e",
   "metadata": {},
   "source": [
    "## Visualizing Spatial Data"
   ]
  },
  {
   "cell_type": "code",
   "execution_count": null,
   "id": "3be11daf",
   "metadata": {},
   "outputs": [],
   "source": []
  }
 ],
 "metadata": {
  "kernelspec": {
   "display_name": "Python 3",
   "language": "python",
   "name": "python3"
  },
  "language_info": {
   "codemirror_mode": {
    "name": "ipython",
    "version": 3
   },
   "file_extension": ".py",
   "mimetype": "text/x-python",
   "name": "python",
   "nbconvert_exporter": "python",
   "pygments_lexer": "ipython3",
   "version": "3.8.8"
  }
 },
 "nbformat": 4,
 "nbformat_minor": 5
}
