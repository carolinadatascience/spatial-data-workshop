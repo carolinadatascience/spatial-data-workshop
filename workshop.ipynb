{
 "cells": [
  {
   "cell_type": "markdown",
   "id": "79e98491",
   "metadata": {},
   "source": [
    "<h1 align=\"center\">Spatial Data with Python Workshop</h1>\n",
    "\n",
    "<h4 align=\"center\"><i>Created by <a href=\"https://github.com/amitparikh1\">Amit Parikh</a> for Carolina Analytics and Data Science on 3/1/2023</i></h4>\n",
    "\n",
    " \n",
    "**Spatial Data** can be defined as any series of data that has an implicit or explicit association with a geographic location. Spatial data is all around us and is constantly being collected. \n",
    "\n",
    "In this workshop we will go over some common examples of spatial datasets, data types that are specific to spatial data, how to best analyze spatial data in Python using GeoPandas, and explore ways we can visualize spatial data. \n",
    "\n",
    "This workshop is meant to be **introductory** and is open to all skill levels. A basic understanding of Python and Pandas would be helpful, but not necessary. To familiarize yourself with Python and Pandas, check out our <a href=\"https://youtube.com/playlist?list=PLtOYSqZWWG7L1tUaEgUwtJP0d9xYHN7o1\"> CADS intro YouTube series </a>. "
   ]
  },
  {
   "cell_type": "markdown",
   "id": "8b6c18d0",
   "metadata": {},
   "source": [
    "## Examples of Spatial Data"
   ]
  },
  {
   "cell_type": "markdown",
   "id": "64a3b8d4",
   "metadata": {},
   "source": [
    "## Data Types Specific to Spatial Data <a href=\"https://www.safe.com/what-is/spatial-data/\">(Source)</a>"
   ]
  },
  {
   "cell_type": "markdown",
   "id": "bf203ba4",
   "metadata": {},
   "source": [
    "### Vector"
   ]
  },
  {
   "cell_type": "markdown",
   "id": "83030cbd",
   "metadata": {},
   "source": [
    "Vector data is the most commmon type of spatial data. Data in this form comes in three types: **point**, **lines**, and **polygons**."
   ]
  },
  {
   "attachments": {},
   "cell_type": "markdown",
   "id": "d64bcb55",
   "metadata": {},
   "source": [
    "<img src=\"https://datacarpentry.org/organization-geospatial/fig/dc-spatial-vector/pnt_line_poly.png\" width =250/>"
   ]
  },
  {
   "cell_type": "markdown",
   "id": "278895c4",
   "metadata": {},
   "source": [
    "**Points** are represented by a ***(latitude, longitude)*** coordinate pair that corresponds to a physical location in the world. \n",
    "\n",
    "    Example: the precise location of a thermometer recording daily temperatures.\n",
    "\n",
    "**Lines** are represented by ***2+*** points that are ***connected together***. Each \"bend\" in a line is represented by a new point. \n",
    "\n",
    "    Example: a line can be used to mark a GPS route from point A to point B. \n",
    "    \n",
    "**Polygons** are represented by ***3+*** points that are ***connected together*** and ***closed***. \n",
    "\n",
    "    Example: a polygon can mark the boundary of a county, zipcode, state, or country. \n",
    "<img src=\"https://digital.newberry.org/ahcb/images/statepages/North_Carolina.gif\" width =250/>"
   ]
  },
  {
   "cell_type": "markdown",
   "id": "71e1e8ae",
   "metadata": {},
   "source": [
    "### Raster"
   ]
  },
  {
   "cell_type": "markdown",
   "id": "010ef274",
   "metadata": {},
   "source": [
    "Raster data is gridded data where each pixel is associated with a specific geographical location.\n",
    "\n",
    "    Example: commonly used to represent satellite image data. \n",
    "    \n",
    "<img src=\"https://datacarpentry.org/organization-geospatial/fig/dc-spatial-raster/raster_concept.png\" width =250/>"
   ]
  },
  {
   "cell_type": "markdown",
   "id": "cdcd0c8e",
   "metadata": {},
   "source": [
    "### Attributes"
   ]
  },
  {
   "cell_type": "markdown",
   "id": "44e7431c",
   "metadata": {},
   "source": [
    "Attributes refer to additional data that describes a geographical feature. \n",
    "\n",
    "    Example: A polygon that represents a home has attributes such as # of bedrooms, # of bathrooms, square footage etc. "
   ]
  },
  {
   "cell_type": "markdown",
   "id": "f0ac5e51",
   "metadata": {},
   "source": [
    "### Geocoding"
   ]
  },
  {
   "cell_type": "markdown",
   "id": "2a1613a0",
   "metadata": {},
   "source": [
    "The process by which tabular data such as address is analyzed and converted into latitude, longitude coordinates. \n",
    "\n",
    "    Example: Say a Real Estate investor had the street addresses of 100 homes in his portfolio! To visualize where these homes are on a map, you would first geocode the addresses to lat, lng coordinates. \n",
    "    \n",
    "Many API services offer free tiers for geocoding such as <a href=\"https://developers.google.com/maps\">Google Maps </a> and <a href= \"https://developer.here.com/\"> HERE </a>."
   ]
  },
  {
   "cell_type": "markdown",
   "id": "9c099a22",
   "metadata": {},
   "source": [
    "## Using GeoPandas to Analyze Spatial Data"
   ]
  },
  {
   "cell_type": "markdown",
   "id": "7bab4e7e",
   "metadata": {},
   "source": [
    "## Visualizing Spatial Data"
   ]
  },
  {
   "cell_type": "code",
   "execution_count": null,
   "id": "3be11daf",
   "metadata": {},
   "outputs": [],
   "source": []
  }
 ],
 "metadata": {
  "kernelspec": {
   "display_name": "Python 3",
   "language": "python",
   "name": "python3"
  },
  "language_info": {
   "codemirror_mode": {
    "name": "ipython",
    "version": 3
   },
   "file_extension": ".py",
   "mimetype": "text/x-python",
   "name": "python",
   "nbconvert_exporter": "python",
   "pygments_lexer": "ipython3",
   "version": "3.8.8"
  }
 },
 "nbformat": 4,
 "nbformat_minor": 5
}
