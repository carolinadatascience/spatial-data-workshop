{
 "cells": [
  {
   "cell_type": "markdown",
   "id": "79e98491",
   "metadata": {},
   "source": [
    "<h1 align=\"center\">Spatial Data with Python Workshop</h1>\n",
    "\n",
    "<h4 align=\"center\"><i>Created by <a href=\"https://github.com/amitparikh1\">Amit Parikh</a> for Carolina Analytics and Data Science on 3/1/2023</i></h4>\n",
    "\n",
    " \n",
    "**Spatial Data** can be defined as any series of data that has an implicit or explicit association with a geographic location. Spatial data is all around us and is constantly being collected. \n",
    "\n",
    "In this workshop we will go over some common examples of spatial datasets, data types that are specific to spatial data, how to best analyze spatial data in Python using GeoPandas, and explore ways we can visualize spatial data. \n",
    "\n",
    "This workshop is meant to be **introductory** and is open to all skill levels. A basic understanding of Python and Pandas would be helpful, but not necessary. To familiarize yourself with Python and Pandas, check out our <a href=\"https://youtube.com/playlist?list=PLtOYSqZWWG7L1tUaEgUwtJP0d9xYHN7o1\"> CADS intro YouTube series </a>. "
   ]
  },
  {
   "cell_type": "markdown",
   "id": "8b6c18d0",
   "metadata": {},
   "source": [
    "## Examples of Spatial Data\n",
    "\n",
    "Try to think of some examples of spatial data, it's all around us! <a href=\"https://www.safegraph.com/guides/uses-of-geospatial-data\">Here </a> are some use cases for spatial data analysis."
   ]
  },
  {
   "cell_type": "markdown",
   "id": "64a3b8d4",
   "metadata": {},
   "source": [
    "## Data Types Specific to Spatial Data <a href=\"https://www.safe.com/what-is/spatial-data/\">(Source)</a>"
   ]
  },
  {
   "cell_type": "markdown",
   "id": "bf203ba4",
   "metadata": {},
   "source": [
    "### Vector"
   ]
  },
  {
   "cell_type": "markdown",
   "id": "65c7c225",
   "metadata": {},
   "source": [
    "Vector data is the most common type of spatial data. Data in this form comes in three types: **point**, **lines**, and **polygons**."
   ]
  },
  {
   "cell_type": "markdown",
   "id": "60d2d3b1",
   "metadata": {},
   "source": [
    "<img src=\"https://datacarpentry.org/organization-geospatial/fig/dc-spatial-vector/pnt_line_poly.png\" width =250/>"
   ]
  },
  {
   "cell_type": "markdown",
   "id": "a9b4cbc1",
   "metadata": {},
   "source": [
    "**Points** are represented by a **(latitude, longitude)** coordinate pair that corresponds to a physical location in the world. \n",
    "\n",
    "    Example: the precise location of a thermometer recording daily temperatures.\n",
    "\n",
    "**Lines** are represented by **2+** points that are **connected together**. Each \"bend\" in a line is represented by a new point. \n",
    "\n",
    "    Example: a line can be used to mark a GPS route from point A to point B. \n",
    "    \n",
    "**Polygons** are represented by **3+** points that are **connected together** and **closed**. \n",
    "\n",
    "    Example: a polygon can mark the boundary of a county, zipcode, state, or country. \n",
    "<img src=\"https://digital.newberry.org/ahcb/images/statepages/North_Carolina.gif\" width =250/>"
   ]
  },
  {
   "cell_type": "markdown",
   "id": "71e1e8ae",
   "metadata": {},
   "source": [
    "### Raster"
   ]
  },
  {
   "cell_type": "markdown",
   "id": "d0ee9a6d",
   "metadata": {},
   "source": [
    "Raster data is gridded data where each pixel is associated with a specific geographical location.\n",
    "\n",
    "    Example: commonly used to represent satellite image data. \n",
    "    \n",
    "<img src=\"https://datacarpentry.org/organization-geospatial/fig/dc-spatial-raster/raster_concept.png\" width =250/>"
   ]
  },
  {
   "cell_type": "markdown",
   "id": "cdcd0c8e",
   "metadata": {},
   "source": [
    "### Attributes"
   ]
  },
  {
   "cell_type": "markdown",
   "id": "517cd9a6",
   "metadata": {},
   "source": [
    "Attributes refer to additional data that describes a geographical feature. \n",
    "\n",
    "    Example: A polygon that represents a home has attributes such as # of bedrooms, # of bathrooms, square footage etc. "
   ]
  },
  {
   "cell_type": "markdown",
   "id": "f0ac5e51",
   "metadata": {},
   "source": [
    "### Geocoding"
   ]
  },
  {
   "cell_type": "markdown",
   "id": "7d48300c",
   "metadata": {},
   "source": [
    "The process by which tabular data such as address is analyzed and converted into latitude, longitude coordinates. \n",
    "\n",
    "    Example: Say a Real Estate investor had the street addresses of 100 homes in his portfolio! To visualize where these homes are on a map, you would first geocode the addresses to lat, lng coordinates. \n",
    "    \n",
    "Many API services offer free tiers for geocoding such as <a href=\"https://developers.google.com/maps\">Google Maps </a> and <a href= \"https://developer.here.com/\"> HERE </a>."
   ]
  },
  {
   "cell_type": "markdown",
   "id": "9c099a22",
   "metadata": {},
   "source": [
    "## Using GeoPandas to Analyze Spatial Data"
   ]
  },
  {
   "cell_type": "markdown",
   "id": "7f2652d0",
   "metadata": {},
   "source": [
    "GeoPandas is a library that extends Pandas to work more nicely with spatial data. "
   ]
  },
  {
   "cell_type": "markdown",
   "id": "7bbe639f",
   "metadata": {},
   "source": [
    "### Get GeoPandas setup"
   ]
  },
  {
   "cell_type": "code",
   "execution_count": null,
   "id": "0e4a2342",
   "metadata": {},
   "outputs": [],
   "source": [
    "# Installations\n",
    "# If you don't have geopandas installed, uncomment this line\n",
    "# !pip install geopandas \n",
    "# !pip install mapclassify"
   ]
  },
  {
   "cell_type": "code",
   "execution_count": null,
   "id": "9633f2cc",
   "metadata": {},
   "outputs": [],
   "source": [
    "# Imports\n",
    "import geopandas as gpd\n",
    "import matplotlib.pyplot as plt\n",
    "import folium"
   ]
  },
  {
   "cell_type": "markdown",
   "id": "ae002766",
   "metadata": {},
   "source": [
    "### Read in the data"
   ]
  },
  {
   "cell_type": "code",
   "execution_count": null,
   "id": "c3065d13",
   "metadata": {},
   "outputs": [],
   "source": [
    "# Use a provided sample dataset given by GeoPandas\n",
    "df_world = gpd.read_file(gpd.datasets.get_path('naturalearth_lowres'))\n",
    "df_world.head(10)"
   ]
  },
  {
   "cell_type": "markdown",
   "id": "01584cb9",
   "metadata": {},
   "source": [
    "### Take a look at the data"
   ]
  },
  {
   "cell_type": "code",
   "execution_count": null,
   "id": "be744c79",
   "metadata": {},
   "outputs": [],
   "source": [
    "# What are the data types in each column\n",
    "df_world.info()"
   ]
  },
  {
   "cell_type": "code",
   "execution_count": null,
   "id": "87aa0057",
   "metadata": {},
   "outputs": [],
   "source": [
    "# How is the geometry column stored\n",
    "print(type(df_world['geometry']))"
   ]
  },
  {
   "cell_type": "markdown",
   "id": "e2502630",
   "metadata": {},
   "source": [
    "The geometry column has a special **geometry** data type and is stored as a **geoseries**.\n",
    "\n",
    "The 3 basic classes of geometric objects are:\n",
    "\n",
    "    - Points / Multi-Points\n",
    "    - Lines / Multi-Lines\n",
    "    - Polygons / Multi-Polygons\n",
    "\n",
    "Geoseries have special attributes that may be useful in spatial analysis:\n",
    "\n",
    "    * Area\n",
    "    * Centroid \n",
    "    * geom_type\n",
    "and so much more...\n",
    "\n",
    "Let's look at **centroid** for example."
   ]
  },
  {
   "cell_type": "code",
   "execution_count": null,
   "id": "ec58da4e",
   "metadata": {},
   "outputs": [],
   "source": [
    "# Centroid (returns a Point that is at the center of the geometry)\n",
    "print(df_world['geometry'].centroid)"
   ]
  },
  {
   "cell_type": "code",
   "execution_count": null,
   "id": "33ed60e3",
   "metadata": {},
   "outputs": [],
   "source": [
    "# Note: Centroid of a Multi-Polygon may not be inside any of the sub-polygons\n",
    "indonesia = df_world[df_world['name'] == 'Indonesia']\n",
    "base_indonesia = indonesia.plot(figsize=(10,10))\n",
    "indonesia.centroid.plot(ax=base_indonesia, color='r', figsize=(10,10))\n",
    "plt.title(\"Map of Indonesia and its centroid\")\n",
    "plt.show()"
   ]
  },
  {
   "cell_type": "markdown",
   "id": "f4f1d9bf",
   "metadata": {},
   "source": [
    "### Aggregation with dissolve <a href=\"https://geopandas.org/en/stable/docs/user_guide/aggregation_with_dissolve.html\">(GeoPandas Docs)</a>"
   ]
  },
  {
   "cell_type": "markdown",
   "id": "36382d45",
   "metadata": {},
   "source": [
    "Right now we can plot Population (or other metrics) on the country level"
   ]
  },
  {
   "cell_type": "code",
   "execution_count": null,
   "id": "136ef642",
   "metadata": {},
   "outputs": [],
   "source": [
    "df_world.plot('pop_est', figsize=(10,10))\n",
    "plt.title(\"Population by Country\")\n",
    "plt.show()"
   ]
  },
  {
   "cell_type": "markdown",
   "id": "cb0aaced",
   "metadata": {},
   "source": [
    "What if we want to look at the data on the continent level?"
   ]
  },
  {
   "cell_type": "code",
   "execution_count": null,
   "id": "6248c5b4",
   "metadata": {},
   "outputs": [],
   "source": [
    "# 8 continents is much less granular and more manageable\n",
    "num_continents = df_world['continent'].nunique()\n",
    "print(f'We have {num_continents} different continents.')\n",
    "\n",
    "# Dissolve allows us to aggregate geometric features (for non-geometric features it performs a Pandas GroupBy)\n",
    "df_continent = df_world.dissolve('continent', aggfunc='sum').reset_index()\n",
    "df_continent"
   ]
  },
  {
   "cell_type": "code",
   "execution_count": null,
   "id": "cb639823",
   "metadata": {},
   "outputs": [],
   "source": [
    "# Plot the new DataFrame\n",
    "df_continent.plot('pop_est', figsize=(10,10))\n",
    "plt.title(\"Population by Continent\")\n",
    "plt.show()"
   ]
  },
  {
   "cell_type": "markdown",
   "id": "a9df1513",
   "metadata": {},
   "source": [
    "This concept can be applied to geographies of all granularities. For example aggregating and disolving:\n",
    "\n",
    "    * county level to state level\n",
    "    * state level to country level\n",
    "    \n",
    "**any smaller geography can be aggregated up to a larger geographical level**, but not the other way around. "
   ]
  },
  {
   "cell_type": "markdown",
   "id": "1e89e596",
   "metadata": {},
   "source": [
    "### Spatial Joins"
   ]
  },
  {
   "cell_type": "markdown",
   "id": "5692cd62",
   "metadata": {},
   "source": [
    "Spatial joins consist of two types. \n",
    "\n",
    "**Binary predicate joins** (uses the function *GeoDataFrame.sjoin()*):\n",
    "    \n",
    "    * intersect\n",
    "    * contains \n",
    "    * within\n",
    "    * touches\n",
    "    * crosses \n",
    "    * overlaps\n",
    "    \n",
    "and **nearest joins** (uses the function *GeoDataFrame.sjoin_nearest()*): based on proximity between the geometries being merged."
   ]
  },
  {
   "cell_type": "markdown",
   "id": "02a3bf25",
   "metadata": {},
   "source": [
    "Let's practice spatial joins by joining cities to countries based on their geometry. If a city is within a country, we will match them up! This will use a **binary predicate join**. "
   ]
  },
  {
   "cell_type": "code",
   "execution_count": null,
   "id": "ece48562",
   "metadata": {},
   "outputs": [],
   "source": [
    "# Read in a new data frame for cities that we will use for joining\n",
    "df_cities = gpd.read_file(gpd.datasets.get_path('naturalearth_cities'))\n",
    "df_cities.head()"
   ]
  },
  {
   "cell_type": "code",
   "execution_count": null,
   "id": "16c2eff6",
   "metadata": {},
   "outputs": [],
   "source": [
    "# Focus on the countries and geometries in df_world\n",
    "df_countries = df_world[['name', 'geometry']]\n",
    "df_countries = df_countries.rename(columns={'name': 'country'})"
   ]
  },
  {
   "cell_type": "code",
   "execution_count": null,
   "id": "146c7c48",
   "metadata": {},
   "outputs": [],
   "source": [
    "df_cities_and_countries = df_cities.sjoin(df_countries, predicate = 'within')\n",
    "df_cities_and_countries.sample(10)"
   ]
  },
  {
   "cell_type": "markdown",
   "id": "ea9f1ccb",
   "metadata": {},
   "source": [
    "Notice the index_right column. We won't dive into this but I recommend reading about spatial indexes <a href=\"https://learn.microsoft.com/en-us/sql/relational-databases/spatial/spatial-indexes-overview?view=sql-server-ver16\"> here </a>."
   ]
  },
  {
   "cell_type": "markdown",
   "id": "6b2652cd",
   "metadata": {},
   "source": [
    "### Interactive Mapping"
   ]
  },
  {
   "cell_type": "markdown",
   "id": "a8177955",
   "metadata": {},
   "source": [
    "Geopandas can make interactive maps based on the folium library. "
   ]
  },
  {
   "cell_type": "code",
   "execution_count": null,
   "id": "a233b8d3",
   "metadata": {},
   "outputs": [],
   "source": [
    "# The simplest option using the GeoDataFrame.explore() function\n",
    "df_world.explore()"
   ]
  },
  {
   "cell_type": "code",
   "execution_count": null,
   "id": "55797c3f",
   "metadata": {
    "scrolled": true
   },
   "outputs": [],
   "source": [
    "# Let's add some customization\n",
    "df_world.explore(\n",
    "     column=\"continent\", # make choropleth based on \"BoroName\" column\n",
    "     tooltip=\"name\", # show \"BoroName\" value in tooltip (on hover)\n",
    "     tiles=\"CartoDB positron\", # use \"CartoDB positron\" tiles\n",
    "     cmap=\"Set1\", # use \"Set1\" matplotlib colormap\n",
    "     style_kwds=dict(color=\"black\"), # use black outline\n",
    "    )"
   ]
  },
  {
   "cell_type": "code",
   "execution_count": null,
   "id": "64bd9f4e",
   "metadata": {},
   "outputs": [],
   "source": [
    "# Adding multiple tiles\n",
    "cont = df_world.explore(\n",
    "     column=\"continent\", # make choropleth based on \"BoroName\" column\n",
    "     tooltip=\"name\", # show \"BoroName\" value in tooltip (on hover)\n",
    "     tiles=\"CartoDB positron\", # use \"CartoDB positron\" tiles\n",
    "     cmap=\"Set1\", # use \"Set1\" matplotlib colormap\n",
    "     style_kwds=dict(color=\"black\"), # use black outline\n",
    "     name=\"countries\",\n",
    "     max_bounds=True,\n",
    "    )\n",
    "\n",
    "df_cities.explore(\n",
    "     m=cont, # pass the map object\n",
    "     color=\"red\", # use red color on all points\n",
    "     tooltip=\"name\", # show \"name\" column in the tooltip\n",
    "     tooltip_kwds=dict(labels=False), # do not show column label in the tooltip\n",
    "     name=\"cities\", # name of the layer in the map\n",
    "     max_bounds=True,\n",
    ")\n",
    "\n",
    "folium.TileLayer('Stamen Toner', control=True).add_to(cont)  # use folium to add alternative tiles\n",
    "folium.LayerControl().add_to(cont)  # use folium to add layer control\n",
    "\n",
    "cont  # show map"
   ]
  },
  {
   "cell_type": "markdown",
   "id": "80f22ab9",
   "metadata": {},
   "source": [
    "Try playing around with this on your own time and merging in other interesting spatial data."
   ]
  },
  {
   "cell_type": "markdown",
   "id": "60387ad5",
   "metadata": {},
   "source": [
    "## Thanks for coming and any questions?"
   ]
  }
 ],
 "metadata": {
  "kernelspec": {
   "display_name": "Python 3 (ipykernel)",
   "language": "python",
   "name": "python3"
  },
  "language_info": {
   "codemirror_mode": {
    "name": "ipython",
    "version": 3
   },
   "file_extension": ".py",
   "mimetype": "text/x-python",
   "name": "python",
   "nbconvert_exporter": "python",
   "pygments_lexer": "ipython3",
   "version": "3.8.8"
  }
 },
 "nbformat": 4,
 "nbformat_minor": 5
}
