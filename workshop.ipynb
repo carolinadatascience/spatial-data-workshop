{
 "cells": [
  {
   "cell_type": "markdown",
   "id": "79e98491",
   "metadata": {},
   "source": [
    "<h1 align=\"center\">Spatial Data with Python Workshop</h1>\n",
    "\n",
    "<h4 align=\"center\"><i>Created by <a href=\"https://github.com/amitparikh1\">Amit Parikh</a> for Carolina Analytics and Data Science on 3/1/2023</i></h4>\n",
    "\n",
    " \n",
    "**Spatial Data** can be defined as any series of data that has an implicit or explicit association with a geographic location. Spatial data is all around us and is constantly being collected. \n",
    "\n",
    "In this workshop we will go over some common examples of spatial datasets, data types that are specific to spatial data, how to best analyze spatial data in Python using GeoPandas, and explore ways we can visualize spatial data. \n",
    "\n",
    "This workshop is meant to be **introductory** and is open to all skill levels. A basic understanding of Python and Pandas would be helpful, but not necessary. To familiarize yourself with Python and Pandas, check out our <a href=\"https://youtube.com/playlist?list=PLtOYSqZWWG7L1tUaEgUwtJP0d9xYHN7o1\"> CADS intro YouTube series </a>. "
   ]
  },
  {
   "cell_type": "markdown",
   "id": "8b6c18d0",
   "metadata": {},
   "source": [
    "## Examples of Spatial Data"
   ]
  },
  {
   "cell_type": "markdown",
   "id": "64a3b8d4",
   "metadata": {},
   "source": [
    "## Data Types Specific to Spatial Data <a href=\"https://www.safe.com/what-is/spatial-data/\">(Source)</a>"
   ]
  },
  {
   "cell_type": "markdown",
   "id": "bf203ba4",
   "metadata": {},
   "source": [
    "### Vector"
   ]
  },
  {
   "cell_type": "markdown",
   "id": "65c7c225",
   "metadata": {},
   "source": [
    "Vector data is the most commmon type of spatial data. Data in this form comes in three types: **point**, **lines**, and **polygons**."
   ]
  },
  {
   "cell_type": "markdown",
   "id": "60d2d3b1",
   "metadata": {},
   "source": [
    "<img src=\"https://datacarpentry.org/organization-geospatial/fig/dc-spatial-vector/pnt_line_poly.png\" width =250/>"
   ]
  },
  {
   "cell_type": "markdown",
   "id": "a9b4cbc1",
   "metadata": {},
   "source": [
    "**Points** are represented by a ***(latitude, longitude)*** coordinate pair that corresponds to a physical location in the world. \n",
    "\n",
    "    Example: the precise location of a thermometer recording daily temperatures.\n",
    "\n",
    "**Lines** are represented by ***2+*** points that are ***connected together***. Each \"bend\" in a line is represented by a new point. \n",
    "\n",
    "    Example: a line can be used to mark a GPS route from point A to point B. \n",
    "    \n",
    "**Polygons** are represented by ***3+*** points that are ***connected together*** and ***closed***. \n",
    "\n",
    "    Example: a polygon can mark the boundary of a county, zipcode, state, or country. \n",
    "<img src=\"https://digital.newberry.org/ahcb/images/statepages/North_Carolina.gif\" width =250/>"
   ]
  },
  {
   "cell_type": "markdown",
   "id": "71e1e8ae",
   "metadata": {},
   "source": [
    "### Raster"
   ]
  },
  {
   "cell_type": "markdown",
   "id": "d0ee9a6d",
   "metadata": {},
   "source": [
    "Raster data is gridded data where each pixel is associated with a specific geographical location.\n",
    "\n",
    "    Example: commonly used to represent satellite image data. \n",
    "    \n",
    "<img src=\"https://datacarpentry.org/organization-geospatial/fig/dc-spatial-raster/raster_concept.png\" width =250/>"
   ]
  },
  {
   "cell_type": "markdown",
   "id": "cdcd0c8e",
   "metadata": {},
   "source": [
    "### Attributes"
   ]
  },
  {
   "cell_type": "markdown",
   "id": "517cd9a6",
   "metadata": {},
   "source": [
    "Attributes refer to additional data that describes a geographical feature. \n",
    "\n",
    "    Example: A polygon that represents a home has attributes such as # of bedrooms, # of bathrooms, square footage etc. "
   ]
  },
  {
   "cell_type": "markdown",
   "id": "f0ac5e51",
   "metadata": {},
   "source": [
    "### Geocoding"
   ]
  },
  {
   "cell_type": "markdown",
   "id": "7d48300c",
   "metadata": {},
   "source": [
    "The process by which tabular data such as address is analyzed and converted into latitude, longitude coordinates. \n",
    "\n",
    "    Example: Say a Real Estate investor had the street addresses of 100 homes in his portfolio! To visualize where these homes are on a map, you would first geocode the addresses to lat, lng coordinates. \n",
    "    \n",
    "Many API services offer free tiers for geocoding such as <a href=\"https://developers.google.com/maps\">Google Maps </a> and <a href= \"https://developer.here.com/\"> HERE </a>."
   ]
  },
  {
   "cell_type": "markdown",
   "id": "9c099a22",
   "metadata": {},
   "source": [
    "## Using GeoPandas to Analyze Spatial Data"
   ]
  },
  {
   "cell_type": "markdown",
   "id": "7f2652d0",
   "metadata": {},
   "source": [
    "GeoPandas is a library that extends Pandas to work more nicely with spatial data. "
   ]
  },
  {
   "cell_type": "markdown",
   "id": "7bbe639f",
   "metadata": {},
   "source": [
    "### Get GeoPandas setup"
   ]
  },
  {
   "cell_type": "code",
   "execution_count": null,
   "id": "0e4a2342",
   "metadata": {},
   "outputs": [],
   "source": [
    "# Installations\n",
    "# !pip install geopandas   ---> If you don't have geopandas installed, uncomment this line"
   ]
  },
  {
   "cell_type": "code",
   "execution_count": 8,
   "id": "9633f2cc",
   "metadata": {},
   "outputs": [],
   "source": [
    "# Imports\n",
    "import geopandas as gpd"
   ]
  },
  {
   "cell_type": "markdown",
   "id": "ae002766",
   "metadata": {},
   "source": [
    "### Read in the data"
   ]
  },
  {
   "cell_type": "code",
   "execution_count": 12,
   "id": "c3065d13",
   "metadata": {},
   "outputs": [
    {
     "data": {
      "text/html": [
       "<div>\n",
       "<style scoped>\n",
       "    .dataframe tbody tr th:only-of-type {\n",
       "        vertical-align: middle;\n",
       "    }\n",
       "\n",
       "    .dataframe tbody tr th {\n",
       "        vertical-align: top;\n",
       "    }\n",
       "\n",
       "    .dataframe thead th {\n",
       "        text-align: right;\n",
       "    }\n",
       "</style>\n",
       "<table border=\"1\" class=\"dataframe\">\n",
       "  <thead>\n",
       "    <tr style=\"text-align: right;\">\n",
       "      <th></th>\n",
       "      <th>pop_est</th>\n",
       "      <th>continent</th>\n",
       "      <th>name</th>\n",
       "      <th>iso_a3</th>\n",
       "      <th>gdp_md_est</th>\n",
       "      <th>geometry</th>\n",
       "    </tr>\n",
       "  </thead>\n",
       "  <tbody>\n",
       "    <tr>\n",
       "      <th>0</th>\n",
       "      <td>920938</td>\n",
       "      <td>Oceania</td>\n",
       "      <td>Fiji</td>\n",
       "      <td>FJI</td>\n",
       "      <td>8374.0</td>\n",
       "      <td>MULTIPOLYGON (((180.00000 -16.06713, 180.00000...</td>\n",
       "    </tr>\n",
       "    <tr>\n",
       "      <th>1</th>\n",
       "      <td>53950935</td>\n",
       "      <td>Africa</td>\n",
       "      <td>Tanzania</td>\n",
       "      <td>TZA</td>\n",
       "      <td>150600.0</td>\n",
       "      <td>POLYGON ((33.90371 -0.95000, 34.07262 -1.05982...</td>\n",
       "    </tr>\n",
       "    <tr>\n",
       "      <th>2</th>\n",
       "      <td>603253</td>\n",
       "      <td>Africa</td>\n",
       "      <td>W. Sahara</td>\n",
       "      <td>ESH</td>\n",
       "      <td>906.5</td>\n",
       "      <td>POLYGON ((-8.66559 27.65643, -8.66512 27.58948...</td>\n",
       "    </tr>\n",
       "    <tr>\n",
       "      <th>3</th>\n",
       "      <td>35623680</td>\n",
       "      <td>North America</td>\n",
       "      <td>Canada</td>\n",
       "      <td>CAN</td>\n",
       "      <td>1674000.0</td>\n",
       "      <td>MULTIPOLYGON (((-122.84000 49.00000, -122.9742...</td>\n",
       "    </tr>\n",
       "    <tr>\n",
       "      <th>4</th>\n",
       "      <td>326625791</td>\n",
       "      <td>North America</td>\n",
       "      <td>United States of America</td>\n",
       "      <td>USA</td>\n",
       "      <td>18560000.0</td>\n",
       "      <td>MULTIPOLYGON (((-122.84000 49.00000, -120.0000...</td>\n",
       "    </tr>\n",
       "  </tbody>\n",
       "</table>\n",
       "</div>"
      ],
      "text/plain": [
       "     pop_est      continent                      name iso_a3  gdp_md_est  \\\n",
       "0     920938        Oceania                      Fiji    FJI      8374.0   \n",
       "1   53950935         Africa                  Tanzania    TZA    150600.0   \n",
       "2     603253         Africa                 W. Sahara    ESH       906.5   \n",
       "3   35623680  North America                    Canada    CAN   1674000.0   \n",
       "4  326625791  North America  United States of America    USA  18560000.0   \n",
       "\n",
       "                                            geometry  \n",
       "0  MULTIPOLYGON (((180.00000 -16.06713, 180.00000...  \n",
       "1  POLYGON ((33.90371 -0.95000, 34.07262 -1.05982...  \n",
       "2  POLYGON ((-8.66559 27.65643, -8.66512 27.58948...  \n",
       "3  MULTIPOLYGON (((-122.84000 49.00000, -122.9742...  \n",
       "4  MULTIPOLYGON (((-122.84000 49.00000, -120.0000...  "
      ]
     },
     "execution_count": 12,
     "metadata": {},
     "output_type": "execute_result"
    }
   ],
   "source": [
    "# Use a provided sample dataset given by GeoPandas\n",
    "df_world = gpd.read_file(gpd.datasets.get_path('naturalearth_lowres'))\n",
    "df_world.head()"
   ]
  },
  {
   "cell_type": "markdown",
   "id": "01584cb9",
   "metadata": {},
   "source": [
    "### Take a look at the data"
   ]
  },
  {
   "cell_type": "code",
   "execution_count": 25,
   "id": "be744c79",
   "metadata": {},
   "outputs": [
    {
     "name": "stdout",
     "output_type": "stream",
     "text": [
      "<class 'geopandas.geodataframe.GeoDataFrame'>\n",
      "RangeIndex: 177 entries, 0 to 176\n",
      "Data columns (total 6 columns):\n",
      " #   Column      Non-Null Count  Dtype   \n",
      "---  ------      --------------  -----   \n",
      " 0   pop_est     177 non-null    int64   \n",
      " 1   continent   177 non-null    object  \n",
      " 2   name        177 non-null    object  \n",
      " 3   iso_a3      177 non-null    object  \n",
      " 4   gdp_md_est  177 non-null    float64 \n",
      " 5   geometry    177 non-null    geometry\n",
      "dtypes: float64(1), geometry(1), int64(1), object(3)\n",
      "memory usage: 8.4+ KB\n"
     ]
    }
   ],
   "source": [
    "# What are the data types in each column\n",
    "df_world.info()"
   ]
  },
  {
   "cell_type": "code",
   "execution_count": 24,
   "id": "87aa0057",
   "metadata": {},
   "outputs": [
    {
     "name": "stdout",
     "output_type": "stream",
     "text": [
      "<class 'geopandas.geoseries.GeoSeries'>\n"
     ]
    }
   ],
   "source": [
    "# How is the geometry column stored\n",
    "print(type(df_world['geometry']))"
   ]
  },
  {
   "cell_type": "markdown",
   "id": "e2502630",
   "metadata": {},
   "source": [
    "The geometry column has a special **geometry** data type and is stored as a **geoseries**.\n",
    "\n",
    "The 3 basic classes of geometric objects are:\n",
    "\n",
    "    - Points / Multi-Points\n",
    "    - Lines / Multi-Lines\n",
    "    - Polygons / Multi-Polygons\n",
    "\n",
    "Geoseries have special attributes that may be useful in spatial analysis"
   ]
  },
  {
   "cell_type": "code",
   "execution_count": 34,
   "id": "6ac982e3",
   "metadata": {},
   "outputs": [
    {
     "name": "stdout",
     "output_type": "stream",
     "text": [
      "0         1.639511\n",
      "1        76.301964\n",
      "2         8.603984\n",
      "3      1712.995228\n",
      "4      1122.281921\n",
      "          ...     \n",
      "172       8.604719\n",
      "173       1.479321\n",
      "174       1.231641\n",
      "175       0.639000\n",
      "176      51.196106\n",
      "Length: 177, dtype: float64\n"
     ]
    }
   ],
   "source": [
    "# Area \n",
    "print(df_world['geometry'].area)"
   ]
  },
  {
   "cell_type": "code",
   "execution_count": 35,
   "id": "ec58da4e",
   "metadata": {},
   "outputs": [
    {
     "name": "stdout",
     "output_type": "stream",
     "text": [
      "0      POINT (163.85316 -17.31631)\n",
      "1        POINT (34.75299 -6.25773)\n",
      "2       POINT (-12.13783 24.29117)\n",
      "3       POINT (-98.14238 61.46908)\n",
      "4      POINT (-112.59944 45.70563)\n",
      "                  ...             \n",
      "172      POINT (20.81965 44.23304)\n",
      "173      POINT (19.28618 42.78904)\n",
      "174      POINT (20.89536 42.57937)\n",
      "175     POINT (-61.33037 10.42824)\n",
      "176       POINT (30.19862 7.29289)\n",
      "Length: 177, dtype: geometry\n"
     ]
    }
   ],
   "source": [
    "# Centroid\n",
    "print(df_world['geometry'].centroid)"
   ]
  },
  {
   "cell_type": "markdown",
   "id": "7bab4e7e",
   "metadata": {},
   "source": [
    "## Visualizing Spatial Data"
   ]
  },
  {
   "cell_type": "code",
   "execution_count": null,
   "id": "3be11daf",
   "metadata": {},
   "outputs": [],
   "source": []
  }
 ],
 "metadata": {
  "kernelspec": {
   "display_name": "Python 3",
   "language": "python",
   "name": "python3"
  },
  "language_info": {
   "codemirror_mode": {
    "name": "ipython",
    "version": 3
   },
   "file_extension": ".py",
   "mimetype": "text/x-python",
   "name": "python",
   "nbconvert_exporter": "python",
   "pygments_lexer": "ipython3",
   "version": "3.8.8"
  }
 },
 "nbformat": 4,
 "nbformat_minor": 5
}
